{
  "nbformat": 4,
  "nbformat_minor": 0,
  "metadata": {
    "colab": {
      "name": "Untitled1.ipynb",
      "provenance": [],
      "authorship_tag": "ABX9TyOYlip3b3pexqEhw65oTKQn",
      "include_colab_link": true
    },
    "kernelspec": {
      "name": "python3",
      "display_name": "Python 3"
    },
    "language_info": {
      "name": "python"
    }
  },
  "cells": [
    {
      "cell_type": "markdown",
      "metadata": {
        "id": "view-in-github",
        "colab_type": "text"
      },
      "source": [
        "<a href=\"https://colab.research.google.com/github/JJamersonMT/Softex-Recife/blob/main/M%C3%B3dulo2/InsertionSort.ipynb\" target=\"_parent\"><img src=\"https://colab.research.google.com/assets/colab-badge.svg\" alt=\"Open In Colab\"/></a>"
      ]
    },
    {
      "cell_type": "code",
      "execution_count": 1,
      "metadata": {
        "id": "dYGFJrfM0JHj",
        "outputId": "9358d7db-34f0-4af0-9641-1c5ffe512578",
        "colab": {
          "base_uri": "https://localhost:8080/"
        }
      },
      "outputs": [
        {
          "output_type": "stream",
          "name": "stdout",
          "text": [
            "-----------------Inicio do projeto-----------------!\n",
            "-----------------Criação dos valores impares para o vetor de forma randomica-----------------!\n",
            "[45, 83, 95, 55, 99, 45, 7, 23, 75, 15, 31, 91, 95, 45, 67, 23, 15, 81, 45, 83, 33, 17, 53, 23, 85, 15, 93, 5, 97, 37]\n",
            "o vetor tem: 30\n",
            "-----------------ordenação pelo metodo insertion sort de forma crescente-----------------!\n",
            "[5, 7, 15, 15, 15, 17, 23, 23, 23, 31, 33, 37, 45, 45, 45, 45, 53, 55, 67, 75, 81, 83, 83, 85, 91, 93, 95, 95, 97, 99]\n"
          ]
        }
      ],
      "source": [
        "import random\n",
        "print('-----------------Inicio do projeto-----------------!')\n",
        "lista_num = []\n",
        "i=0\n",
        "print('-----------------Criação dos valores impares para o vetor de forma randomica-----------------!')\n",
        "while i<30 :\n",
        "    x = random.randint(1,100)\n",
        "    z = x % 2\n",
        "    if z == 1 :\n",
        "        lista_num.append(x)\n",
        "        i=i+1\n",
        "    else:\n",
        "        i=i\n",
        "print(lista_num)\n",
        "print('o vetor tem:',len(lista_num))\n",
        "print('-----------------ordenação pelo metodo insertion sort de forma crescente-----------------!')\n",
        "\n",
        "def insertionSort(lista_num):\n",
        "    for step in range(1, len(lista_num)):\n",
        "        key = lista_num[step]\n",
        "        j = step - 1\n",
        "        while j >= 0 and key < lista_num[j]:\n",
        "            lista_num[j + 1] = lista_num[j]\n",
        "            j = j - 1\n",
        "        lista_num[j + 1] = key\n",
        "insertionSort(lista_num)\n",
        "print(lista_num)\n",
        "    \n",
        "\n",
        "    \n",
        "    "
      ]
    }
  ]
}