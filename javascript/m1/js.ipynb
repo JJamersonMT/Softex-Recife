{
  "nbformat": 4,
  "nbformat_minor": 0,
  "metadata": {
    "colab": {
      "name": "Untitled3.ipynb",
      "provenance": [],
      "authorship_tag": "ABX9TyOshiapQiWUfdUuL/KlShDt",
      "include_colab_link": true
    },
    "kernelspec": {
      "name": "python3",
      "display_name": "Python 3"
    },
    "language_info": {
      "name": "python"
    }
  },
  "cells": [
    {
      "cell_type": "markdown",
      "metadata": {
        "id": "view-in-github",
        "colab_type": "text"
      },
      "source": [
        "<a href=\"https://colab.research.google.com/github/JJamersonMT/Softex-Recife/blob/main/javascript/m1/js.ipynb\" target=\"_parent\"><img src=\"https://colab.research.google.com/assets/colab-badge.svg\" alt=\"Open In Colab\"/></a>"
      ]
    },
    {
      "cell_type": "code",
      "source": [
        "dados de redes sociais que visam na amostra de contas de perfil profissioanal como o linkedin\n",
        "dados de jogos que podem ser utilizados na maioria das vezes para realizar sistemas de rankeamento \n",
        "dados que sao utilizados por softwares de nutricao para orientar os seus cliente "
      ],
      "metadata": {
        "id": "vSx25678ct_W"
      },
      "execution_count": null,
      "outputs": []
    }
  ]
}