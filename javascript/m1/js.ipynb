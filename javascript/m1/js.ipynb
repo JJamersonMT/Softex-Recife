{
  "nbformat": 4,
  "nbformat_minor": 0,
  "metadata": {
    "colab": {
      "name": "Untitled3.ipynb",
      "provenance": [],
      "authorship_tag": "ABX9TyO6y359E5Ax9l980rJ9wP+E",
      "include_colab_link": true
    },
    "kernelspec": {
      "name": "python3",
      "display_name": "Python 3"
    },
    "language_info": {
      "name": "python"
    }
  },
  "cells": [
    {
      "cell_type": "markdown",
      "metadata": {
        "id": "view-in-github",
        "colab_type": "text"
      },
      "source": [
        "<a href=\"https://colab.research.google.com/github/JJamersonMT/Softex-Recife/blob/main/javascript/m1/js.ipynb\" target=\"_parent\"><img src=\"https://colab.research.google.com/assets/colab-badge.svg\" alt=\"Open In Colab\"/></a>"
      ]
    },
    {
      "cell_type": "code",
      "source": [
        "no botao de pesquisa do google é observavel que existe um atributo chamado jsaction , 
        que provavelmente sera o responsavel por direcionar a acao que sera realizada naquele 
        botao de pesquisa que enviara o dado pesquisado para assim retornar um valor ou series
        de sites relacionados"
      ],
      "metadata": {
        "id": "c_WhE2SIU89h"
      },
      "execution_count": null,
      "outputs": []
    }
  ]
}
