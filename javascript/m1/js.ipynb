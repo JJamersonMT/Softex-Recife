{
  "nbformat": 4,
  "nbformat_minor": 0,
  "metadata": {
    "colab": {
      "name": "Untitled3.ipynb",
      "provenance": [],
      "authorship_tag": "ABX9TyO2lpnVWMCgXfiotfUnL9Nt",
      "include_colab_link": true
    },
    "kernelspec": {
      "name": "python3",
      "display_name": "Python 3"
    },
    "language_info": {
      "name": "python"
    }
  },
  "cells": [
    {
      "cell_type": "markdown",
      "metadata": {
        "id": "view-in-github",
        "colab_type": "text"
      },
      "source": [
        "<a href=\"https://colab.research.google.com/github/JJamersonMT/Softex-Recife/blob/main/javascript/m1/js.ipynb\" target=\"_parent\"><img src=\"https://colab.research.google.com/assets/colab-badge.svg\" alt=\"Open In Colab\"/></a>"
      ]
    },
    {
      "cell_type": "code",
      "source": [
        "no botao de pesquisa do google é observavel que existe \n",
        "um atributo chamado jsaction , que provavelmente sera o \n",
        "responsavel por direcionar a acao que sera realizada naquele \n",
        "botao de pesquisa que enviara o dado pesquisado para assim\n",
        "retornar um valor ou series de sites relacionados"
      ],
      "metadata": {
        "id": "c_WhE2SIU89h"
      },
      "execution_count": null,
      "outputs": []
    }
  ]
}