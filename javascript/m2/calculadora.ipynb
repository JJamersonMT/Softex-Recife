{
  "nbformat": 4,
  "nbformat_minor": 0,
  "metadata": {
    "colab": {
      "name": "Untitled4.ipynb",
      "provenance": [],
      "authorship_tag": "ABX9TyODbGIzqKLxodEOn27tivVy",
      "include_colab_link": true
    },
    "kernelspec": {
      "name": "python3",
      "display_name": "Python 3"
    },
    "language_info": {
      "name": "python"
    }
  },
  "cells": [
    {
      "cell_type": "markdown",
      "metadata": {
        "id": "view-in-github",
        "colab_type": "text"
      },
      "source": [
        "<a href=\"https://colab.research.google.com/github/JJamersonMT/Softex-Recife/blob/main/javascript/m2/calculadora.ipynb\" target=\"_parent\"><img src=\"https://colab.research.google.com/assets/colab-badge.svg\" alt=\"Open In Colab\"/></a>"
      ]
    },
    {
      "cell_type": "code",
      "execution_count": 2,
      "metadata": {
        "colab": {
          "base_uri": "https://localhost:8080/"
        },
        "id": "xqUwtu0p95EN",
        "outputId": "f257dcb3-0a62-44c9-be44-e13a732a52b1"
      },
      "outputs": [
        {
          "output_type": "stream",
          "name": "stdout",
          "text": [
            "insira um valor 11\n",
            "insira outro valor 2\n",
            "insira a operação equivalente a : + , - , * , / , ** **\n",
            "resultado: 121\n"
          ]
        }
      ],
      "source": [
        "v1=input('insira um valor ')\n",
        "v2=input('insira outro valor ')\n",
        "op=input('insira a operação equivalente a : + , - , * , / , ** ')\n",
        "resultado=0\n",
        "resto=0\n",
        "if op == '+':\n",
        "    resultado=v1+v2\n",
        "elif op == '-':\n",
        "    resultado=v1-v2\n",
        "elif op == '*':\n",
        "    resultado=v1*v2\n",
        "elif op == '/':\n",
        "    resultado=(int(v1)/int(v2))\n",
        "   \n",
        "\n",
        "elif op == '**':\n",
        "    resultado=int(v1)**int(v2)\n",
        "print('resultado:',resultado)\n",
        "if resto !=0:\n",
        "    print('o resto da diviçao é ',resto)\n"
      ]
    }
  ]
}