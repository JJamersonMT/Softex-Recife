{
  "nbformat": 4,
  "nbformat_minor": 0,
  "metadata": {
    "colab": {
      "name": "Untitled3.ipynb",
      "provenance": [],
      "authorship_tag": "ABX9TyO4G9mK/Rust/b05NIM3lfP",
      "include_colab_link": true
    },
    "kernelspec": {
      "name": "python3",
      "display_name": "Python 3"
    },
    "language_info": {
      "name": "python"
    }
  },
  "cells": [
    {
      "cell_type": "markdown",
      "metadata": {
        "id": "view-in-github",
        "colab_type": "text"
      },
      "source": [
        "<a href=\"https://colab.research.google.com/github/JJamersonMT/Softex-Recife/blob/main/M%C3%B3dulo3/operadoreslogicos.ipynb\" target=\"_parent\"><img src=\"https://colab.research.google.com/assets/colab-badge.svg\" alt=\"Open In Colab\"/></a>"
      ]
    },
    {
      "cell_type": "code",
      "execution_count": 4,
      "metadata": {
        "colab": {
          "base_uri": "https://localhost:8080/"
        },
        "id": "KZDf1N2PslXA",
        "outputId": "09da5cb9-aa18-4eaf-ba66-f0e7e7efaa9d"
      },
      "outputs": [
        {
          "output_type": "stream",
          "name": "stdout",
          "text": [
            "sua quatidade de falta foi 4 infelismente você foi reprovado jamerson\n",
            "fim do algoritmo\n"
          ]
        }
      ],
      "source": [
        "nome = 'jamerson'\n",
        "nota1 = 8\n",
        "nota2 = 8\n",
        "faltas=1\n",
        "media=(nota1+nota2)/2\n",
        "if media < 7 :\n",
        "  print('sua media foi',media,'infelismente você foi reprovado',nome)\n",
        "elif faltas >3:\n",
        "    print('sua quatidade de falta foi',faltas,'infelismente você foi reprovado',nome)\n",
        "else:\n",
        "  print('sua nota foi ',media,'voce foi aprovado',nome)\n",
        "print('fim do algoritmo')\n",
        "\n",
        "\n",
        "\n"
      ]
    }
  ]
}