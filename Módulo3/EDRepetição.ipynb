{
  "nbformat": 4,
  "nbformat_minor": 0,
  "metadata": {
    "colab": {
      "name": "Untitled3.ipynb",
      "provenance": [],
      "authorship_tag": "ABX9TyM/Lwdcfj7Pmsb8JTMZvPKU",
      "include_colab_link": true
    },
    "kernelspec": {
      "name": "python3",
      "display_name": "Python 3"
    },
    "language_info": {
      "name": "python"
    }
  },
  "cells": [
    {
      "cell_type": "markdown",
      "metadata": {
        "id": "view-in-github",
        "colab_type": "text"
      },
      "source": [
        "<a href=\"https://colab.research.google.com/github/JJamersonMT/Softex-Recife/blob/main/M%C3%B3dulo3/EstruturaDeRepeti%C3%A7%C3%A3o.ipynb\" target=\"_parent\"><img src=\"https://colab.research.google.com/assets/colab-badge.svg\" alt=\"Open In Colab\"/></a>"
      ]
    },
    {
      "cell_type": "code",
      "source": [
        "import time\n",
        "i=0\n",
        "tp=10\n",
        "print('iniciando contagem regressiva ',tp)\n",
        "while i in range(10):\n",
        "\n",
        "  print('restam apenas',tp,'segundos')\n",
        "  tp=tp-1\n",
        "  time.sleep(1)\n",
        "  if tp<=0:\n",
        "    print('bummmmmm!')\n",
        "    break\n",
        "    "
      ],
      "metadata": {
        "colab": {
          "base_uri": "https://localhost:8080/"
        },
        "id": "rE75RXdi2nRR",
        "outputId": "a7f998ff-0c31-4e14-a858-fd3c3996860f"
      },
      "execution_count": 12,
      "outputs": [
        {
          "output_type": "stream",
          "name": "stdout",
          "text": [
            "iniciando contagem regressiva  4\n",
            "restam apenas 4 segundos\n",
            "restam apenas 3 segundos\n",
            "restam apenas 2 segundos\n",
            "restam apenas 1 segundos\n",
            "bummmmmm!\n"
          ]
        }
      ]
    }
  ]
}
