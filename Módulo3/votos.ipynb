{
  "nbformat": 4,
  "nbformat_minor": 0,
  "metadata": {
    "colab": {
      "name": "Untitled3.ipynb",
      "provenance": [],
      "authorship_tag": "ABX9TyO84GNMwFkp8Xdl7c5jgFl0",
      "include_colab_link": true
    },
    "kernelspec": {
      "name": "python3",
      "display_name": "Python 3"
    },
    "language_info": {
      "name": "python"
    }
  },
  "cells": [
    {
      "cell_type": "markdown",
      "metadata": {
        "id": "view-in-github",
        "colab_type": "text"
      },
      "source": [
        "<a href=\"https://colab.research.google.com/github/JJamersonMT/Softex-Recife/blob/main/M%C3%B3dulo3/votos.ipynb\" target=\"_parent\"><img src=\"https://colab.research.google.com/assets/colab-badge.svg\" alt=\"Open In Colab\"/></a>"
      ]
    },
    {
      "cell_type": "code",
      "source": [
        "candidato1 = 889\n",
        "candidato2= 847\n",
        "candidato3 = 515\n",
        "nulo=0\n",
        "c=1\n",
        "print('votos atuais')\n",
        "print('candidato1:',candidato1)\n",
        "print('candidato2:',candidato2)\n",
        "print('candidato3:',candidato3)\n",
        "print('votos nulos:',nulo)\n",
        "while c != 0:\n",
        "  try:\n",
        "    voto=int(input('informe o seu voto!'))\n",
        "    if voto==1:\n",
        "      candidato1=candidato1+1\n",
        "    elif voto==2:\n",
        "      candidato2=candidato2+1\n",
        "    elif voto==3:\n",
        "      candidato3=candidato3+1\n",
        "    elif voto==0:\n",
        "      nulo=nulo+1\n",
        "      print('voto anulado!')\n",
        "    r=str(input('deseja votar novamente? S/N'))\n",
        "    if r=='n':\n",
        "      print('votação encerrada')\n",
        "      print('candidato1:',candidato1)\n",
        "      print('candidato2:',candidato2)\n",
        "      print('candidato3:',candidato3)\n",
        "      print('votos nulos:',nulo)\n",
        "      c=0\n",
        "  except:\n",
        "    print('voce inseriu um valor diferente de um numero,vote novamente')\n",
        "    c=1\n",
        "\n",
        "\n"
      ],
      "metadata": {
        "colab": {
          "base_uri": "https://localhost:8080/"
        },
        "id": "2-O5IMTsHlb1",
        "outputId": "9589523c-d79d-4a76-83b9-5aaf59daf4ff"
      },
      "execution_count": 2,
      "outputs": [
        {
          "output_type": "stream",
          "name": "stdout",
          "text": [
            "votos atuais\n",
            "candidato1: 889\n",
            "candidato2: 847\n",
            "candidato3: 515\n",
            "votos nulos: 0\n",
            "informe o seu voto!0\n",
            "voto anulado!\n",
            "deseja votar novamente? S/Ns\n",
            "informe o seu voto!0\n",
            "voto anulado!\n",
            "deseja votar novamente? S/Ns\n",
            "informe o seu voto!n\n",
            "voce inseriu um valor diferente de um numero,vote novamente\n",
            "informe o seu voto!0\n",
            "voto anulado!\n",
            "deseja votar novamente? S/Nn\n",
            "votação encerrada\n",
            "candidato1: 889\n",
            "candidato2: 847\n",
            "candidato3: 515\n",
            "votos nulos: 3\n"
          ]
        }
      ]
    }
  ]
}