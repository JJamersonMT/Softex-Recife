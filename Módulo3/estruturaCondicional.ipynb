{
  "nbformat": 4,
  "nbformat_minor": 0,
  "metadata": {
    "colab": {
      "name": "Untitled3.ipynb",
      "provenance": [],
      "authorship_tag": "ABX9TyPLaWFEDbEisqIWB1LYJ1sj",
      "include_colab_link": true
    },
    "kernelspec": {
      "name": "python3",
      "display_name": "Python 3"
    },
    "language_info": {
      "name": "python"
    }
  },
  "cells": [
    {
      "cell_type": "markdown",
      "metadata": {
        "id": "view-in-github",
        "colab_type": "text"
      },
      "source": [
        "<a href=\"https://colab.research.google.com/github/JJamersonMT/Softex-Recife/blob/main/M%C3%B3dulo3/estruturaCondicional.ipynb\" target=\"_parent\"><img src=\"https://colab.research.google.com/assets/colab-badge.svg\" alt=\"Open In Colab\"/></a>"
      ]
    },
    {
      "cell_type": "code",
      "source": [
        "qRodas=9\n",
        "pBruto=6600\n",
        "qPessoas=8\n",
        "if qRodas >=2 and qRodas<=3:\n",
        "  print('categoria A')\n",
        "elif qRodas ==4 and qPessoas<=8 and pBruto<=3500:\n",
        "    print('categoria B')\n",
        "elif qRodas >=4 and (pBruto>=3500 and pBruto<=6000):\n",
        "    print('categoria C')\n",
        "elif qRodas >=4 and qPessoas>8:\n",
        "    print('categoria D')\n",
        "elif qRodas >=4 and pBruto>6000:\n",
        "    print('categoria E')\n"
      ],
      "metadata": {
        "colab": {
          "base_uri": "https://localhost:8080/"
        },
        "id": "dSkbtUAqx6gb",
        "outputId": "94518a5f-02a7-4297-d974-f41240003d4e"
      },
      "execution_count": 8,
      "outputs": [
        {
          "output_type": "stream",
          "name": "stdout",
          "text": [
            "categoria E\n"
          ]
        }
      ]
    }
  ]
}