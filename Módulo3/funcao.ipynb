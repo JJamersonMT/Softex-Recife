{
  "nbformat": 4,
  "nbformat_minor": 0,
  "metadata": {
    "colab": {
      "name": "Untitled3.ipynb",
      "provenance": [],
      "authorship_tag": "ABX9TyOLFKJvvQy4/MsKdKwJside",
      "include_colab_link": true
    },
    "kernelspec": {
      "name": "python3",
      "display_name": "Python 3"
    },
    "language_info": {
      "name": "python"
    }
  },
  "cells": [
    {
      "cell_type": "markdown",
      "metadata": {
        "id": "view-in-github",
        "colab_type": "text"
      },
      "source": [
        "<a href=\"https://colab.research.google.com/github/JJamersonMT/Softex-Recife/blob/main/M%C3%B3dulo3/funcao.ipynb\" target=\"_parent\"><img src=\"https://colab.research.google.com/assets/colab-badge.svg\" alt=\"Open In Colab\"/></a>"
      ]
    },
    {
      "cell_type": "code",
      "source": [
        "v1=3\n",
        "v2=2\n",
        "operador=3\n",
        "def operacao(v1,v2,operador):\n",
        "  if operador == 0:\n",
        "    return 0\n",
        "  elif operador == 1:\n",
        "    return v1+v2\n",
        "  elif operador == 2:\n",
        "    return v1-v2\n",
        "  elif operador == 3:\n",
        "    return v1*v2\n",
        "  elif operador == 4:\n",
        "    return v1/v2\n",
        "resultado=operacao(v1,v2,operador)\n",
        "print('o resultado é:',resultado)"
      ],
      "metadata": {
        "colab": {
          "base_uri": "https://localhost:8080/"
        },
        "id": "zzQW0XCE6mEv",
        "outputId": "4969297f-b211-476a-8859-6cd8f29e90ac"
      },
      "execution_count": 17,
      "outputs": [
        {
          "output_type": "stream",
          "name": "stdout",
          "text": [
            "o resultado é: 6\n"
          ]
        }
      ]
    }
  ]
}